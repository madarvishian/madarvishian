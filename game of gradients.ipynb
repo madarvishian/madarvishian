{
  "nbformat": 4,
  "nbformat_minor": 0,
  "metadata": {
    "colab": {
      "provenance": [],
      "authorship_tag": "ABX9TyOPvWbrzyLMQVWLAyKJNBSG",
      "include_colab_link": true
    },
    "kernelspec": {
      "name": "python3",
      "display_name": "Python 3"
    },
    "language_info": {
      "name": "python"
    }
  },
  "cells": [
    {
      "cell_type": "markdown",
      "metadata": {
        "id": "view-in-github",
        "colab_type": "text"
      },
      "source": [
        "<a href=\"https://colab.research.google.com/github/madarvishian/madarvishian/blob/main/game%20of%20gradients.ipynb\" target=\"_parent\"><img src=\"https://colab.research.google.com/assets/colab-badge.svg\" alt=\"Open In Colab\"/></a>"
      ]
    },
    {
      "cell_type": "code",
      "source": [
        "# Game of Gradients: Mitigating Irrelevant Clients in Federated Learning-python code\n",
        "\n",
        "import numpy as np\n",
        "from itertools import permutations\n",
        "from math import factorial\n",
        "\n",
        "\n",
        "def compute_shapley_values_updates(central_model_parameters, validation_dataset, updates_selected_clients, R):\n",
        "    num_clients = len(updates_selected_clients)\n",
        "    shapley_values = np.zeros(num_clients)\n",
        "\n",
        "    # Generate all permutations of the selected clients\n",
        "    permutations_list = list(permutations(updates_selected_clients))\n",
        "\n",
        "    for permutation in permutations_list:\n",
        "        for i in range(num_clients):\n",
        "            coalition = permutation[:i + 1]\n",
        "            remaining_clients = [client for client in updates_selected_clients if client not in coalition]\n",
        "\n",
        "            # Calculate v(Sp;i U {i}; DV) - v(Sp;i; DV)\n",
        "            coalition_plus_i = coalition + (i,)\n",
        "            v_coalition_plus_i = calculate_model_output(central_model_parameters, validation_dataset, coalition_plus_i)\n",
        "            v_coalition = calculate_model_output(central_model_parameters, validation_dataset, coalition)\n",
        "            marginal_contribution = v_coalition_plus_i - v_coalition\n",
        "\n",
        "            # Update Shapley value\n",
        "            shapley_values[i] += marginal_contribution / factorial(i + 1)\n",
        "\n",
        "    # Normalize by the number of permutations\n",
        "    shapley_values /= len(permutations_list)\n",
        "\n",
        "    return shapley_values\n",
        "\n",
        "def calculate_model_output(model_parameters, validation_dataset, selected_clients):\n",
        "      model_output = np.random.rand()      return model_output\n",
        "\n",
        "# Example usage\n",
        "central_model_parameters = np.random.rand()\n",
        "validation_dataset = np.random.rand()\n",
        "updates_selected_clients = [1, 2, 3]\n",
        "R = 100\n",
        "\n",
        "shapley_values = compute_shapley_values_updates(central_model_parameters, validation_dataset, updates_selected_clients, R)\n",
        "print(\"Shapley Values:\", shapley_values)\n"
      ],
      "metadata": {
        "colab": {
          "base_uri": "https://localhost:8080/"
        },
        "id": "EFv4gdxRmqA_",
        "outputId": "1409a258-753f-40b5-f4d6-497776fc0dc8"
      },
      "execution_count": null,
      "outputs": [
        {
          "output_type": "stream",
          "name": "stdout",
          "text": [
            "Shapley Values: [-0.13382758  0.045042    0.02374946]\n"
          ]
        }
      ]
    },
    {
      "cell_type": "code",
      "source": [
        "import torch.nn as nn\n",
        "import torch.optim as optim\n",
        "import torch\n",
        "from torchvision import datasets, transforms\n",
        "import numpy as np\n",
        "\n",
        "# Placeholder for Shapley value computation\n",
        "def compute_shapley_values(relevance_scores):\n",
        "\n",
        "    pass\n",
        "\n",
        "# Placeholder for local model update\n",
        "def update_local_model(local_model, minibatch, learning_rate):\n",
        "       pass\n",
        "\n",
        "# Placeholder for Shapley value update\n",
        "def update_shapley_values(shapley_values, central_model, validation_dataset, client_updates, R):\n",
        "        pass\n",
        "\n",
        "# Placeholder for selecting minibatch\n",
        "def select_minibatch(dataset, batch_size):\n",
        "        pass\n",
        "\n",
        "# Federated Averaging function\n",
        "def federated_averaging(num_clients, num_epochs, learning_rate, local_learning_rate, central_model, train_datasets):\n",
        "    central_optimizer = optim.SGD(central_model.parameters(), lr=learning_rate)\n",
        "\n",
        "    for epoch in range(num_epochs):\n",
        "        for client in range(num_clients):\n",
        "            local_model = CentralModel()\n",
        "            local_optimizer = optim.SGD(local_model.parameters(), lr=local_learning_rate)\n",
        "\n",
        "            for _ in range(E):\n",
        "                # Select a minibatch from the client's training dataset\n",
        "                minibatch = select_minibatch(train_datasets[client], B)\n",
        "\n",
        "                # Update the local model\n",
        "                local_optimizer.zero_grad()\n",
        "                output = local_model(minibatch[0])\n",
        "                loss = loss_function(output, minibatch[1])\n",
        "                loss.backward()\n",
        "                local_optimizer.step()\n",
        "\n",
        "                # Send the updated local model to the server\n",
        "\n",
        "            # Aggregate client updates to update the central model\n",
        "            central_optimizer.zero_grad()\n",
        "            # Aggregate and update central model using client updates\n",
        "\n",
        "    return central_model\n",
        "\n",
        "# Main Shapley Federated Averaging loop\n",
        "def shapley_fedavg(K, T, m, B, alpha, alpha_i, E, R, relevance_params, train_datasets, validation_dataset):\n",
        "    central_model = CentralModel()\n",
        "    relevance_scores = torch.ones(K)  # Initialize relevance scores\n",
        "\n",
        "    for round in range(T):\n",
        "        # Compute Shapley values based on relevance scores\n",
        "        shapley_values = compute_shapley_values(relevance_scores)\n",
        "\n",
        "        # Sample m clients based on Shapley values\n",
        "        selected_clients = np.random.choice(K, size=m, p=shapley_values)\n",
        "\n",
        "        # Update local models for selected clients\n",
        "        central_model = federated_averaging(m, E, alpha, alpha_i, central_model, [train_datasets[i] for i in selected_clients])\n",
        "\n",
        "        # Update Shapley values based on central model updates\n",
        "        shapley_values = update_shapley_values(shapley_values, central_model, validation_dataset, client_updates, R)\n",
        "\n",
        "    return central_model, shapley_values\n",
        "\n",
        "# Shapley Federated Averaging function\n",
        "def shapley_fedavg(K, T, m, B, alpha, alpha_i, E, R, relevance_params, trainloader, testloader):\n",
        "    central_model = CentralModel()\n",
        "    relevance_scores = torch.ones(K)  # Initialize relevance scores\n",
        "\n",
        "    for round in range(T):\n",
        "        # Compute Shapley values based on relevance scores\n",
        "        shapley_values = compute_shapley_values(relevance_scores)\n",
        "\n",
        "        # Sample m clients based on Shapley values\n",
        "        selected_clients = np.random.choice(K, size=m, p=shapley_values)\n",
        "\n",
        "        # Update local models for selected clients\n",
        "        central_model = federated_averaging(m, E, alpha, alpha_i, central_model, [trainloader.dataset[i] for i in selected_clients])\n",
        "\n",
        "        # Update Shapley values based on central model updates\n",
        "        client_updates = []  # Gather client updates during federated averaging\n",
        "        shapley_values = update_shapley_values(shapley_values, central_model, testloader.dataset, client_updates, R)\n",
        "        print(\"central_model\",\"shapley_value\")\n",
        "\n",
        "    return central_model, shapley_values\n"
      ],
      "metadata": {
        "id": "cBe62aa7JSbq"
      },
      "execution_count": null,
      "outputs": []
    }
  ]
}